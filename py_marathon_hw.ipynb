{
 "cells": [
  {
   "cell_type": "markdown",
   "id": "55b989e3",
   "metadata": {},
   "source": [
    "### Базовый вариант (игра из одного раунда)"
   ]
  },
  {
   "cell_type": "code",
   "execution_count": null,
   "id": "34e01e7e",
   "metadata": {},
   "outputs": [],
   "source": [
    "import random\n",
    "\n",
    "user = input('Ваш вариант')\n",
    "computer = random.choice(['r', 's', 'p'])\n",
    "\n",
    "print('Компьютер выбрал:', computer)    \n",
    "\n",
    "if user == computer:\n",
    "    print('Ничья')\n",
    "elif user == 'r':\n",
    "    if computer == 's':\n",
    "        print('Игрок победил! Камень ломает ножницы!')\n",
    "    else:\n",
    "        print('Компьютер победил! Бумага закрывает камень!')\n",
    "elif user == 'p':\n",
    "    if computer == 'r':\n",
    "        print('Компьютер победил! Бумага закрывает камень!')\n",
    "    else:\n",
    "        print('Игрок победил! Ножницы режут бумагу!')\n",
    "elif user == 's':\n",
    "    if computer == 'p':\n",
    "        print('Игрок победил! Ножницы режут бумагу!')\n",
    "    else:\n",
    "        print('Компьютер победил! Камень ломает ножницы!')"
   ]
  },
  {
   "cell_type": "markdown",
   "id": "0a72ecf6",
   "metadata": {},
   "source": [
    "### Продвинутый вариант (с циклом до трех побед)"
   ]
  },
  {
   "cell_type": "code",
   "execution_count": null,
   "id": "1da7d9ee",
   "metadata": {},
   "outputs": [],
   "source": [
    "import random\n",
    "\n",
    "player_wins = 0\n",
    "computer_wins = 0\n",
    "\n",
    "while player_wins < 3 and computer_wins < 3:\n",
    "    \n",
    "    user = input('Ваш вариант')\n",
    "    computer = random.choice(['r', 's', 'p'])\n",
    "    \n",
    "    print('Компьютер выбрал:', computer)     \n",
    "    \n",
    "    if user == computer:\n",
    "        print('Ничья')\n",
    "        \n",
    "    elif user == 'r':\n",
    "        if computer == 's':\n",
    "            print('Игрок победил! Камень ломает ножницы!')\n",
    "            player_wins = player_wins + 1\n",
    "        else:\n",
    "            print('Компьютер победил! Бумага закрывает камень!')\n",
    "            computer_wins = computer_wins + 1\n",
    "            \n",
    "    elif user == 'p':\n",
    "        if computer == 'r':\n",
    "            print('Компьютер победил! Бумага закрывает камень!')\n",
    "            computer_wins = computer_wins + 1\n",
    "        else:\n",
    "            print('Игрок победил! Ножницы режут бумагу!')\n",
    "            player_wins = player_wins + 1\n",
    "            \n",
    "    elif user == 's':\n",
    "        if computer == 'p':\n",
    "            print('Игрок победил! Ножницы режут бумагу!')\n",
    "            player_wins = player_wins + 1\n",
    "        else:\n",
    "            print('Компьютер победил! Камень ломает ножницы!')\n",
    "            computer_wins = computer_wins + 1\n",
    "            \n",
    "    print('Счет: ', player_wins, ':', computer_wins)\n",
    "\n",
    "    \n",
    "if player_wins > computer_wins:\n",
    "    print('По итогам трех раундов победил игрок')\n",
    "else:\n",
    "    print('По итогам трех раундов победил компьютер')"
   ]
  },
  {
   "cell_type": "raw",
   "id": "42ba6244",
   "metadata": {},
   "source": []
  }
 ],
 "metadata": {
  "kernelspec": {
   "display_name": "Python 3",
   "language": "python",
   "name": "python3"
  },
  "language_info": {
   "codemirror_mode": {
    "name": "ipython",
    "version": 3
   },
   "file_extension": ".py",
   "mimetype": "text/x-python",
   "name": "python",
   "nbconvert_exporter": "python",
   "pygments_lexer": "ipython3",
   "version": "3.8.5"
  }
 },
 "nbformat": 4,
 "nbformat_minor": 5
}
