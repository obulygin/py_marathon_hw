{
 "cells": [
  {
   "cell_type": "markdown",
   "metadata": {},
   "source": [
    "## Игра \"Камень-ножницы-бумага\""
   ]
  },
  {
   "cell_type": "code",
   "execution_count": null,
   "metadata": {},
   "outputs": [],
   "source": [
    "import random\n",
    "\n",
    "player_wins = 0\n",
    "computer_wins = 0\n",
    "\n",
    "while player_wins < 3 and computer_wins < 3:\n",
    "    \n",
    "    user = input('Ваш вариант')\n",
    "    computer = random.choice(['r', 's', 'p'])\n",
    "    \n",
    "    if user == computer:\n",
    "        print('Ничья')\n",
    "        \n",
    "    elif user == 'r':\n",
    "        if computer == 's':\n",
    "            print('Игрок победил! Камень ломает ножницы!')\n",
    "            player_wins = player_wins + 1\n",
    "        else:\n",
    "            print('Компьютер победил! Бумага закрывает камень!')\n",
    "            computer_wins = computer_wins + 1\n",
    "            \n",
    "    elif user == 'p':\n",
    "        if computer == 'r':\n",
    "            print('Компьютер победил! Бумага закрывает камень!')\n",
    "            computer_wins = computer_wins + 1\n",
    "        else:\n",
    "            print('Игрок победил! Ножницы режут бумагу!')\n",
    "            player_wins = player_wins + 1\n",
    "            \n",
    "    elif user == 's':\n",
    "        if computer == 'p':\n",
    "            print('Игрок победил! Ножницы режут бумагу!')\n",
    "            player_wins = player_wins + 1\n",
    "        else:\n",
    "            print('Компьютер победил! Камень ломает ножницы!')\n",
    "            computer_wins = computer_wins + 1\n",
    "            \n",
    "    print('Счет: ', player_wins, ':', computer_wins)\n",
    "\n",
    "    \n",
    "if player_wins > computer_wins:\n",
    "    print('По итогам трех раундов победил игрок')\n",
    "else:\n",
    "    print('По итогам трех раундов победил компьютер')"
   ]
  },
  {
   "cell_type": "raw",
   "metadata": {},
   "source": []
  }
 ],
 "metadata": {
  "kernelspec": {
   "display_name": "Python 3",
   "language": "python",
   "name": "python3"
  },
  "language_info": {
   "codemirror_mode": {
    "name": "ipython",
    "version": 3
   },
   "file_extension": ".py",
   "mimetype": "text/x-python",
   "name": "python",
   "nbconvert_exporter": "python",
   "pygments_lexer": "ipython3",
   "version": "3.8.5"
  }
 },
 "nbformat": 4,
 "nbformat_minor": 4
}
